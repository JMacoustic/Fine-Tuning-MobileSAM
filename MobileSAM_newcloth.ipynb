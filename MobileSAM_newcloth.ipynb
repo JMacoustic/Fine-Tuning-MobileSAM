{
 "cells": [
  {
   "cell_type": "code",
   "execution_count": null,
   "metadata": {},
   "outputs": [],
   "source": [
    "# Install the required libraries\n",
    "#Mobile SAM \n",
    "!git clone https://github.com/ChaoningZhang/MobileSAM.git\n",
    "\n",
    "%pip install -e ."
   ]
  },
  {
   "cell_type": "markdown",
   "metadata": {},
   "source": [
    "**Imports and Model Setup**"
   ]
  },
  {
   "cell_type": "code",
   "execution_count": 1,
   "metadata": {},
   "outputs": [
    {
     "data": {
      "text/plain": [
       "True"
      ]
     },
     "execution_count": 1,
     "metadata": {},
     "output_type": "execute_result"
    }
   ],
   "source": [
    "import torch\n",
    "import numpy as np\n",
    "import matplotlib.pyplot as plt\n",
    "import tifffile\n",
    "from patchify import patchify\n",
    "import random\n",
    "import tifffile\n",
    "from PIL import Image\n",
    "import numpy as np\n",
    "import glob\n",
    "\n",
    "torch.cuda.is_available()"
   ]
  },
  {
   "cell_type": "code",
   "execution_count": 14,
   "metadata": {},
   "outputs": [],
   "source": [
    "from mobile_sam import sam_model_registry, SamAutomaticMaskGenerator, SamPredictor\n",
    "\n",
    "model_type = \"vit_t\"\n",
    "sam_checkpoint = \"mobile_sam.pt\"\n",
    "device = \"cpu\" # set device to cpu temporarily for dataset transforms\n",
    "\n",
    "mobile_sam = sam_model_registry[model_type](checkpoint=sam_checkpoint)\n",
    "mobile_sam.to(device=device)\n",
    "\n",
    "predictor = SamPredictor(mobile_sam)\n",
    "mask_generator = SamAutomaticMaskGenerator(mobile_sam)"
   ]
  },
  {
   "cell_type": "markdown",
   "metadata": {},
   "source": [
    "**Generate Dataset**"
   ]
  },
  {
   "cell_type": "code",
   "execution_count": 2,
   "metadata": {},
   "outputs": [],
   "source": [
    "# Load and stack color images\n",
    "images = [np.array(Image.open(file)) for file in sorted(glob.glob(\"cloth_dataset/camera1_images/scene_*.png\"))]\n",
    "masks = [np.array(Image.open(file)) for file in sorted(glob.glob(\"cloth_dataset/binary_images/binary_*.png\"))]\n",
    "\n",
    "# Save as multi-page TIFF stacks with RGB for color images\n",
    "tifffile.imwrite(\"cloth_dataset/cloth_images_stack.tif\", np.array(images), photometric='rgb')\n",
    "tifffile.imwrite(\"cloth_dataset/wrinkle_masks_stack.tif\", np.array(masks), photometric='rgb')"
   ]
  },
  {
   "cell_type": "code",
   "execution_count": 15,
   "metadata": {},
   "outputs": [
    {
     "name": "stdout",
     "output_type": "stream",
     "text": [
      "(1000, 546, 821, 4)\n",
      "(1000, 546, 821, 4)\n"
     ]
    }
   ],
   "source": [
    "#165 large images as tiff image stack\n",
    "large_images_temp = tifffile.imread(\"cloth_dataset/cloth_images_stack.tif\")\n",
    "large_masks_temp = tifffile.imread(\"cloth_dataset/wrinkle_masks_stack.tif\")\n",
    "\n",
    "print(large_images_temp.shape) \n",
    "print(large_masks_temp.shape)"
   ]
  },
  {
   "cell_type": "code",
   "execution_count": 16,
   "metadata": {},
   "outputs": [
    {
     "name": "stdout",
     "output_type": "stream",
     "text": [
      "(1000, 512, 768, 3)\n",
      "(1000, 512, 768)\n"
     ]
    }
   ],
   "source": [
    "large_masks = large_masks_temp[..., 0]  # Take only the RGB channel\n",
    "large_masks = large_masks.astype(np.uint8) \n",
    "\n",
    "large_images = large_images_temp[:, 34:546, 25:793, :3]\n",
    "large_masks = large_masks[:, 34:546, 25:793]\n",
    "print(large_images.shape) \n",
    "print(large_masks.shape)"
   ]
  },
  {
   "cell_type": "code",
   "execution_count": 17,
   "metadata": {},
   "outputs": [
    {
     "name": "stdout",
     "output_type": "stream",
     "text": [
      "Image shape: (4939, 256, 256, 3)\n",
      "Mask shape: (4939, 256, 256)\n"
     ]
    }
   ],
   "source": [
    "#Desired patch size for smaller images and step size.\n",
    "patch_size = 256\n",
    "step = 256\n",
    "\n",
    "all_img_patches = []\n",
    "for img in range(large_images.shape[0]):\n",
    "    large_image = large_images[img]\n",
    "    \n",
    "    # Patchify with (patch_size, patch_size, 4) to include RGBA channels\n",
    "    patches_img = patchify(large_image, (patch_size, patch_size, 3), step=step)\n",
    "\n",
    "    # Iterate through the patches and append to all_img_patches\n",
    "    for i in range(patches_img.shape[0]):\n",
    "        for j in range(patches_img.shape[1]):\n",
    "            single_patch_img = patches_img[i, j, 0, :, :, :]  # Extract each patch with all channels\n",
    "            all_img_patches.append(single_patch_img)\n",
    "\n",
    "# Convert list of patches to numpy array\n",
    "images = np.array(all_img_patches)\n",
    "\n",
    "# Process masks, assuming they are single-channel (binary)\n",
    "all_mask_patches = []\n",
    "for img in range(large_masks.shape[0]):\n",
    "    large_mask = large_masks[img]\n",
    "\n",
    "    # If the mask has an extra channel dimension, reduce to single channel\n",
    "    if large_mask.ndim == 3 and large_mask.shape[-1] == 4:\n",
    "        large_mask = large_mask[:, :, 0]  # Take only one channel\n",
    "\n",
    "    # Patchify for 2D patches on single-channel masks\n",
    "    patches_mask = patchify(large_mask, (patch_size, patch_size), step=step)\n",
    "\n",
    "    for i in range(patches_mask.shape[0]):\n",
    "        for j in range(patches_mask.shape[1]):\n",
    "            single_patch_mask = patches_mask[i, j, :, :]  # Extract as 2D array\n",
    "            single_patch_mask = (single_patch_mask / 255).astype(np.uint8)  # Normalize to binary if needed\n",
    "            all_mask_patches.append(single_patch_mask)\n",
    "\n",
    "# Convert list of patches to numpy array\n",
    "masks = np.array(all_mask_patches)\n",
    "\n",
    "# Create a list to store the indices of non-empty masks\n",
    "valid_indices = [i for i, mask in enumerate(masks) if mask.max() != 0]\n",
    "# Filter the image and mask arrays to keep only the non-empty pairs\n",
    "filtered_images = images[valid_indices]\n",
    "filtered_masks = masks[valid_indices]\n",
    "print(\"Image shape:\", filtered_images.shape)  # e.g., (num_frames, height, width, num_channels)\n",
    "print(\"Mask shape:\", filtered_masks.shape)\n"
   ]
  },
  {
   "cell_type": "code",
   "execution_count": 18,
   "metadata": {},
   "outputs": [],
   "source": [
    "import torch\n",
    "\n",
    "#Get bounding boxes from mask.\n",
    "def get_bounding_box(ground_truth_map):\n",
    "  # get bounding box from mask\n",
    "  y_indices, x_indices = np.where(ground_truth_map > 0)\n",
    "  x_min, x_max = np.min(x_indices), np.max(x_indices)\n",
    "  y_min, y_max = np.min(y_indices), np.max(y_indices)\n",
    "  # add perturbation to bounding box coordinates\n",
    "  H, W = ground_truth_map.shape\n",
    "  x_min = max(0, x_min - np.random.randint(0, 20))\n",
    "  x_max = min(W, x_max + np.random.randint(0, 20))\n",
    "  y_min = max(0, y_min - np.random.randint(0, 20))\n",
    "  y_max = min(H, y_max + np.random.randint(0, 20))\n",
    "  bbox = np.array([x_min, y_min, x_max, y_max])\n",
    "\n",
    "  return bbox\n",
    "\n",
    "# Add bounding boxes to the dataset\n",
    "filtered_boxes = []\n",
    "for mask in filtered_masks:\n",
    "  filtered_boxes.append(get_bounding_box(mask))\n"
   ]
  },
  {
   "cell_type": "code",
   "execution_count": null,
   "metadata": {},
   "outputs": [],
   "source": [
    "from datasets import Dataset\n",
    "from PIL import Image\n",
    "\n",
    "# Convert the NumPy arrays to Pillow images and store them in a dictionary\n",
    "dataset_dict = {\n",
    "    \"image\": [Image.fromarray(img) for img in filtered_images],\n",
    "    \"label\": [Image.fromarray(mask) for mask in filtered_masks],\n",
    "}\n",
    "\n",
    "# Create the dataset using the datasets.Dataset class\n",
    "dataset = Dataset.from_dict(dataset_dict)"
   ]
  },
  {
   "cell_type": "code",
   "execution_count": 9,
   "metadata": {},
   "outputs": [
    {
     "data": {
      "image/png": "[encoded data removed]",
      "text/plain": [
       "<Figure size 1000x500 with 2 Axes>"
      ]
     },
     "metadata": {},
     "output_type": "display_data"
    }
   ],
   "source": [
    "img_num = random.randint(0, filtered_images.shape[0]-1)\n",
    "example_image = dataset[img_num][\"image\"]\n",
    "example_mask = dataset[img_num][\"label\"]\n",
    "\n",
    "fig, axes = plt.subplots(1, 2, figsize=(10, 5))\n",
    "\n",
    "# Plot the first image on the left\n",
    "axes[0].imshow(np.array(example_image))  # Assuming the first image is grayscale\n",
    "axes[0].set_title(\"Image\")\n",
    "\n",
    "# Plot the second image on the right\n",
    "axes[1].imshow(example_mask, cmap='gray')  # Assuming the second image is grayscale\n",
    "axes[1].set_title(\"Mask\")\n",
    "\n",
    "# Hide axis ticks and labels\n",
    "for ax in axes:\n",
    "    ax.set_xticks([])\n",
    "    ax.set_yticks([])\n",
    "    ax.set_xticklabels([])\n",
    "    ax.set_yticklabels([])\n",
    "\n",
    "# Display the images side by side\n",
    "plt.show()"
   ]
  },
  {
   "cell_type": "markdown",
   "metadata": {},
   "source": [
    "**Dataset Processor for MobileSAM**"
   ]
  },
  {
   "cell_type": "code",
   "execution_count": 30,
   "metadata": {},
   "outputs": [],
   "source": [
    "import torch\n",
    "from mobile_sam.utils import transforms\n",
    "\n",
    "# Image transforms\n",
    "transform = transforms.ResizeLongestSide(mobile_sam.image_encoder.img_size)\n",
    "\n",
    "transformed_images = []\n",
    "for img in filtered_images:\n",
    "    transformed_image = torch.as_tensor(transform.apply_image(img), device=\"cpu\")\n",
    "    transformed_image = transformed_image.permute(2, 0, 1)\n",
    "    transformed_images.append(transformed_image)\n",
    "\n",
    "# Box transforms\n",
    "transformed_boxes = []\n",
    "for box in filtered_boxes:\n",
    "    transformed_box = torch.as_tensor(transform.apply_boxes(box, (256, 256)), dtype=torch.float, device=\"cuda\")[None, :]\n",
    "    transformed_boxes.append(transformed_box)\n",
    "\n",
    "# GT Mask transforms\n",
    "transformed_masks = []\n",
    "for mask in filtered_masks:\n",
    "    transformed_mask = torch.from_numpy(mask).float()\n",
    "    transformed_masks.append(transformed_mask)"
   ]
  },
  {
   "cell_type": "code",
   "execution_count": 54,
   "metadata": {},
   "outputs": [],
   "source": [
    "batch = [\n",
    "    [{\n",
    "        \"image\": img,  # The image tensor\n",
    "        \"original_size\": (256, 256),  # Original size of the image\n",
    "        \"boxes\": boxes.requires_grad_().to(\"cuda\"),  # Boxes for this image\n",
    "        \"ground_truth_mask\": mask.to(\"cuda\").requires_grad_()\n",
    "    }]\n",
    "    for img, boxes, mask in zip(transformed_images, transformed_boxes, transformed_masks)\n",
    "]"
   ]
  },
  {
   "cell_type": "code",
   "execution_count": 9,
   "metadata": {},
   "outputs": [],
   "source": [
    "# Save dataset\n",
    "torch.save(batch, './cloth_dataset/batch.pt')\n",
    "torch.save(filtered_images, './cloth_dataset/filtered_images.pt')\n",
    "torch.save(filtered_masks, './cloth_dataset/filtered_masks.pt')\n",
    "torch.save(filtered_boxes, './cloth_dataset/filtered_boxes.pt')"
   ]
  },
  {
   "cell_type": "markdown",
   "metadata": {},
   "source": [
    "**Reset Model for Training**"
   ]
  },
  {
   "cell_type": "code",
   "execution_count": 2,
   "metadata": {},
   "outputs": [],
   "source": [
    "batch = torch.load('./cloth_dataset/batch.pt')\n",
    "#filtered_images = torch.load('./cloth_dataset/filtered_images.pt')\n",
    "#filtered_masks = torch.load('./cloth_dataset/filtered_masks.pt')\n",
    "#filtered_boxes = torch.load('./cloth_dataset/filtered_boxes.pt')"
   ]
  },
  {
   "cell_type": "code",
   "execution_count": 3,
   "metadata": {},
   "outputs": [
    {
     "name": "stderr",
     "output_type": "stream",
     "text": [
      "c:\\Users\\juhye\\AppData\\Local\\Programs\\Python\\Python312\\Lib\\site-packages\\timm\\models\\layers\\__init__.py:48: FutureWarning: Importing from timm.models.layers is deprecated, please import via timm.layers\n",
      "  warnings.warn(f\"Importing from {__name__} is deprecated, please import via timm.layers\", FutureWarning)\n",
      "c:\\Users\\juhye\\AppData\\Local\\Programs\\Python\\Python312\\Lib\\site-packages\\timm\\models\\registry.py:4: FutureWarning: Importing from timm.models.registry is deprecated, please import via timm.models\n",
      "  warnings.warn(f\"Importing from {__name__} is deprecated, please import via timm.models\", FutureWarning)\n",
      "C:\\Users\\juhye\\Desktop\\Current Files\\로봇비전\\프로젝트\\SAM_cloth_finetuning\\MobileSAM\\mobile_sam\\modeling\\tiny_vit_sam.py:656: UserWarning: Overwriting tiny_vit_5m_224 in registry with mobile_sam.modeling.tiny_vit_sam.tiny_vit_5m_224. This is because the name being registered conflicts with an existing name. Please check if this is not expected.\n",
      "  return register_model(fn_wrapper)\n",
      "C:\\Users\\juhye\\Desktop\\Current Files\\로봇비전\\프로젝트\\SAM_cloth_finetuning\\MobileSAM\\mobile_sam\\modeling\\tiny_vit_sam.py:656: UserWarning: Overwriting tiny_vit_11m_224 in registry with mobile_sam.modeling.tiny_vit_sam.tiny_vit_11m_224. This is because the name being registered conflicts with an existing name. Please check if this is not expected.\n",
      "  return register_model(fn_wrapper)\n",
      "C:\\Users\\juhye\\Desktop\\Current Files\\로봇비전\\프로젝트\\SAM_cloth_finetuning\\MobileSAM\\mobile_sam\\modeling\\tiny_vit_sam.py:656: UserWarning: Overwriting tiny_vit_21m_224 in registry with mobile_sam.modeling.tiny_vit_sam.tiny_vit_21m_224. This is because the name being registered conflicts with an existing name. Please check if this is not expected.\n",
      "  return register_model(fn_wrapper)\n",
      "C:\\Users\\juhye\\Desktop\\Current Files\\로봇비전\\프로젝트\\SAM_cloth_finetuning\\MobileSAM\\mobile_sam\\modeling\\tiny_vit_sam.py:656: UserWarning: Overwriting tiny_vit_21m_384 in registry with mobile_sam.modeling.tiny_vit_sam.tiny_vit_21m_384. This is because the name being registered conflicts with an existing name. Please check if this is not expected.\n",
      "  return register_model(fn_wrapper)\n",
      "C:\\Users\\juhye\\Desktop\\Current Files\\로봇비전\\프로젝트\\SAM_cloth_finetuning\\MobileSAM\\mobile_sam\\modeling\\tiny_vit_sam.py:656: UserWarning: Overwriting tiny_vit_21m_512 in registry with mobile_sam.modeling.tiny_vit_sam.tiny_vit_21m_512. This is because the name being registered conflicts with an existing name. Please check if this is not expected.\n",
      "  return register_model(fn_wrapper)\n"
     ]
    }
   ],
   "source": [
    "from mobile_sam import sam_model_registry, SamPredictor\n",
    "\n",
    "model_type = \"vit_t\"\n",
    "sam_checkpoint = \"model/cloth_MobileSAM_checkpoint.pth\"\n",
    "device = \"cuda\" if torch.cuda.is_available() else \"cpu\"\n",
    "\n",
    "mobile_sam = sam_model_registry[\"vit_t\"](checkpoint=\"mobile_sam.pt\")\n",
    "mobile_sam.to(device=device)\n",
    "predictor = SamPredictor(mobile_sam)"
   ]
  },
  {
   "cell_type": "code",
   "execution_count": 4,
   "metadata": {},
   "outputs": [
    {
     "name": "stdout",
     "output_type": "stream",
     "text": [
      "Trainable parameters: 4058340\n",
      "MobileSAM Parameters:\n",
      "image_encoder.patch_embed.seq.0.c.weight: Frozen\n",
      "image_encoder.patch_embed.seq.0.bn.weight: Frozen\n",
      "image_encoder.patch_embed.seq.0.bn.bias: Frozen\n",
      "image_encoder.patch_embed.seq.2.c.weight: Frozen\n",
      "image_encoder.patch_embed.seq.2.bn.weight: Frozen\n",
      "image_encoder.patch_embed.seq.2.bn.bias: Frozen\n",
      "image_encoder.layers.0.blocks.0.conv1.c.weight: Frozen\n",
      "image_encoder.layers.0.blocks.0.conv1.bn.weight: Frozen\n",
      "image_encoder.layers.0.blocks.0.conv1.bn.bias: Frozen\n",
      "image_encoder.layers.0.blocks.0.conv2.c.weight: Frozen\n",
      "image_encoder.layers.0.blocks.0.conv2.bn.weight: Frozen\n",
      "image_encoder.layers.0.blocks.0.conv2.bn.bias: Frozen\n",
      "image_encoder.layers.0.blocks.0.conv3.c.weight: Frozen\n",
      "image_encoder.layers.0.blocks.0.conv3.bn.weight: Frozen\n",
      "image_encoder.layers.0.blocks.0.conv3.bn.bias: Frozen\n",
      "image_encoder.layers.0.blocks.1.conv1.c.weight: Frozen\n",
      "image_encoder.layers.0.blocks.1.conv1.bn.weight: Frozen\n",
      "image_encoder.layers.0.blocks.1.conv1.bn.bias: Frozen\n",
      "image_encoder.layers.0.blocks.1.conv2.c.weight: Frozen\n",
      "image_encoder.layers.0.blocks.1.conv2.bn.weight: Frozen\n",
      "image_encoder.layers.0.blocks.1.conv2.bn.bias: Frozen\n",
      "image_encoder.layers.0.blocks.1.conv3.c.weight: Frozen\n",
      "image_encoder.layers.0.blocks.1.conv3.bn.weight: Frozen\n",
      "image_encoder.layers.0.blocks.1.conv3.bn.bias: Frozen\n",
      "image_encoder.layers.0.downsample.conv1.c.weight: Frozen\n",
      "image_encoder.layers.0.downsample.conv1.bn.weight: Frozen\n",
      "image_encoder.layers.0.downsample.conv1.bn.bias: Frozen\n",
      "image_encoder.layers.0.downsample.conv2.c.weight: Frozen\n",
      "image_encoder.layers.0.downsample.conv2.bn.weight: Frozen\n",
      "image_encoder.layers.0.downsample.conv2.bn.bias: Frozen\n",
      "image_encoder.layers.0.downsample.conv3.c.weight: Frozen\n",
      "image_encoder.layers.0.downsample.conv3.bn.weight: Frozen\n",
      "image_encoder.layers.0.downsample.conv3.bn.bias: Frozen\n",
      "image_encoder.layers.1.blocks.0.attn.attention_biases: Frozen\n",
      "image_encoder.layers.1.blocks.0.attn.norm.weight: Frozen\n",
      "image_encoder.layers.1.blocks.0.attn.norm.bias: Frozen\n",
      "image_encoder.layers.1.blocks.0.attn.qkv.weight: Frozen\n",
      "image_encoder.layers.1.blocks.0.attn.qkv.bias: Frozen\n",
      "image_encoder.layers.1.blocks.0.attn.proj.weight: Frozen\n",
      "image_encoder.layers.1.blocks.0.attn.proj.bias: Frozen\n",
      "image_encoder.layers.1.blocks.0.mlp.norm.weight: Frozen\n",
      "image_encoder.layers.1.blocks.0.mlp.norm.bias: Frozen\n",
      "image_encoder.layers.1.blocks.0.mlp.fc1.weight: Frozen\n",
      "image_encoder.layers.1.blocks.0.mlp.fc1.bias: Frozen\n",
      "image_encoder.layers.1.blocks.0.mlp.fc2.weight: Frozen\n",
      "image_encoder.layers.1.blocks.0.mlp.fc2.bias: Frozen\n",
      "image_encoder.layers.1.blocks.0.local_conv.c.weight: Frozen\n",
      "image_encoder.layers.1.blocks.0.local_conv.bn.weight: Frozen\n",
      "image_encoder.layers.1.blocks.0.local_conv.bn.bias: Frozen\n",
      "image_encoder.layers.1.blocks.1.attn.attention_biases: Frozen\n",
      "image_encoder.layers.1.blocks.1.attn.norm.weight: Frozen\n",
      "image_encoder.layers.1.blocks.1.attn.norm.bias: Frozen\n",
      "image_encoder.layers.1.blocks.1.attn.qkv.weight: Frozen\n",
      "image_encoder.layers.1.blocks.1.attn.qkv.bias: Frozen\n",
      "image_encoder.layers.1.blocks.1.attn.proj.weight: Frozen\n",
      "image_encoder.layers.1.blocks.1.attn.proj.bias: Frozen\n",
      "image_encoder.layers.1.blocks.1.mlp.norm.weight: Frozen\n",
      "image_encoder.layers.1.blocks.1.mlp.norm.bias: Frozen\n",
      "image_encoder.layers.1.blocks.1.mlp.fc1.weight: Frozen\n",
      "image_encoder.layers.1.blocks.1.mlp.fc1.bias: Frozen\n",
      "image_encoder.layers.1.blocks.1.mlp.fc2.weight: Frozen\n",
      "image_encoder.layers.1.blocks.1.mlp.fc2.bias: Frozen\n",
      "image_encoder.layers.1.blocks.1.local_conv.c.weight: Frozen\n",
      "image_encoder.layers.1.blocks.1.local_conv.bn.weight: Frozen\n",
      "image_encoder.layers.1.blocks.1.local_conv.bn.bias: Frozen\n",
      "image_encoder.layers.1.downsample.conv1.c.weight: Frozen\n",
      "image_encoder.layers.1.downsample.conv1.bn.weight: Frozen\n",
      "image_encoder.layers.1.downsample.conv1.bn.bias: Frozen\n",
      "image_encoder.layers.1.downsample.conv2.c.weight: Frozen\n",
      "image_encoder.layers.1.downsample.conv2.bn.weight: Frozen\n",
      "image_encoder.layers.1.downsample.conv2.bn.bias: Frozen\n",
      "image_encoder.layers.1.downsample.conv3.c.weight: Frozen\n",
      "image_encoder.layers.1.downsample.conv3.bn.weight: Frozen\n",
      "image_encoder.layers.1.downsample.conv3.bn.bias: Frozen\n",
      "image_encoder.layers.2.blocks.0.attn.attention_biases: Frozen\n",
      "image_encoder.layers.2.blocks.0.attn.norm.weight: Frozen\n",
      "image_encoder.layers.2.blocks.0.attn.norm.bias: Frozen\n",
      "image_encoder.layers.2.blocks.0.attn.qkv.weight: Frozen\n",
      "image_encoder.layers.2.blocks.0.attn.qkv.bias: Frozen\n",
      "image_encoder.layers.2.blocks.0.attn.proj.weight: Frozen\n",
      "image_encoder.layers.2.blocks.0.attn.proj.bias: Frozen\n",
      "image_encoder.layers.2.blocks.0.mlp.norm.weight: Frozen\n",
      "image_encoder.layers.2.blocks.0.mlp.norm.bias: Frozen\n",
      "image_encoder.layers.2.blocks.0.mlp.fc1.weight: Frozen\n",
      "image_encoder.layers.2.blocks.0.mlp.fc1.bias: Frozen\n",
      "image_encoder.layers.2.blocks.0.mlp.fc2.weight: Frozen\n",
      "image_encoder.layers.2.blocks.0.mlp.fc2.bias: Frozen\n",
      "image_encoder.layers.2.blocks.0.local_conv.c.weight: Frozen\n",
      "image_encoder.layers.2.blocks.0.local_conv.bn.weight: Frozen\n",
      "image_encoder.layers.2.blocks.0.local_conv.bn.bias: Frozen\n",
      "image_encoder.layers.2.blocks.1.attn.attention_biases: Frozen\n",
      "image_encoder.layers.2.blocks.1.attn.norm.weight: Frozen\n",
      "image_encoder.layers.2.blocks.1.attn.norm.bias: Frozen\n",
      "image_encoder.layers.2.blocks.1.attn.qkv.weight: Frozen\n",
      "image_encoder.layers.2.blocks.1.attn.qkv.bias: Frozen\n",
      "image_encoder.layers.2.blocks.1.attn.proj.weight: Frozen\n",
      "image_encoder.layers.2.blocks.1.attn.proj.bias: Frozen\n",
      "image_encoder.layers.2.blocks.1.mlp.norm.weight: Frozen\n",
      "image_encoder.layers.2.blocks.1.mlp.norm.bias: Frozen\n",
      "image_encoder.layers.2.blocks.1.mlp.fc1.weight: Frozen\n",
      "image_encoder.layers.2.blocks.1.mlp.fc1.bias: Frozen\n",
      "image_encoder.layers.2.blocks.1.mlp.fc2.weight: Frozen\n",
      "image_encoder.layers.2.blocks.1.mlp.fc2.bias: Frozen\n",
      "image_encoder.layers.2.blocks.1.local_conv.c.weight: Frozen\n",
      "image_encoder.layers.2.blocks.1.local_conv.bn.weight: Frozen\n",
      "image_encoder.layers.2.blocks.1.local_conv.bn.bias: Frozen\n",
      "image_encoder.layers.2.blocks.2.attn.attention_biases: Frozen\n",
      "image_encoder.layers.2.blocks.2.attn.norm.weight: Frozen\n",
      "image_encoder.layers.2.blocks.2.attn.norm.bias: Frozen\n",
      "image_encoder.layers.2.blocks.2.attn.qkv.weight: Frozen\n",
      "image_encoder.layers.2.blocks.2.attn.qkv.bias: Frozen\n",
      "image_encoder.layers.2.blocks.2.attn.proj.weight: Frozen\n",
      "image_encoder.layers.2.blocks.2.attn.proj.bias: Frozen\n",
      "image_encoder.layers.2.blocks.2.mlp.norm.weight: Frozen\n",
      "image_encoder.layers.2.blocks.2.mlp.norm.bias: Frozen\n",
      "image_encoder.layers.2.blocks.2.mlp.fc1.weight: Frozen\n",
      "image_encoder.layers.2.blocks.2.mlp.fc1.bias: Frozen\n",
      "image_encoder.layers.2.blocks.2.mlp.fc2.weight: Frozen\n",
      "image_encoder.layers.2.blocks.2.mlp.fc2.bias: Frozen\n",
      "image_encoder.layers.2.blocks.2.local_conv.c.weight: Frozen\n",
      "image_encoder.layers.2.blocks.2.local_conv.bn.weight: Frozen\n",
      "image_encoder.layers.2.blocks.2.local_conv.bn.bias: Frozen\n",
      "image_encoder.layers.2.blocks.3.attn.attention_biases: Frozen\n",
      "image_encoder.layers.2.blocks.3.attn.norm.weight: Frozen\n",
      "image_encoder.layers.2.blocks.3.attn.norm.bias: Frozen\n",
      "image_encoder.layers.2.blocks.3.attn.qkv.weight: Frozen\n",
      "image_encoder.layers.2.blocks.3.attn.qkv.bias: Frozen\n",
      "image_encoder.layers.2.blocks.3.attn.proj.weight: Frozen\n",
      "image_encoder.layers.2.blocks.3.attn.proj.bias: Frozen\n",
      "image_encoder.layers.2.blocks.3.mlp.norm.weight: Frozen\n",
      "image_encoder.layers.2.blocks.3.mlp.norm.bias: Frozen\n",
      "image_encoder.layers.2.blocks.3.mlp.fc1.weight: Frozen\n",
      "image_encoder.layers.2.blocks.3.mlp.fc1.bias: Frozen\n",
      "image_encoder.layers.2.blocks.3.mlp.fc2.weight: Frozen\n",
      "image_encoder.layers.2.blocks.3.mlp.fc2.bias: Frozen\n",
      "image_encoder.layers.2.blocks.3.local_conv.c.weight: Frozen\n",
      "image_encoder.layers.2.blocks.3.local_conv.bn.weight: Frozen\n",
      "image_encoder.layers.2.blocks.3.local_conv.bn.bias: Frozen\n",
      "image_encoder.layers.2.blocks.4.attn.attention_biases: Frozen\n",
      "image_encoder.layers.2.blocks.4.attn.norm.weight: Frozen\n",
      "image_encoder.layers.2.blocks.4.attn.norm.bias: Frozen\n",
      "image_encoder.layers.2.blocks.4.attn.qkv.weight: Frozen\n",
      "image_encoder.layers.2.blocks.4.attn.qkv.bias: Frozen\n",
      "image_encoder.layers.2.blocks.4.attn.proj.weight: Frozen\n",
      "image_encoder.layers.2.blocks.4.attn.proj.bias: Frozen\n",
      "image_encoder.layers.2.blocks.4.mlp.norm.weight: Frozen\n",
      "image_encoder.layers.2.blocks.4.mlp.norm.bias: Frozen\n",
      "image_encoder.layers.2.blocks.4.mlp.fc1.weight: Frozen\n",
      "image_encoder.layers.2.blocks.4.mlp.fc1.bias: Frozen\n",
      "image_encoder.layers.2.blocks.4.mlp.fc2.weight: Frozen\n",
      "image_encoder.layers.2.blocks.4.mlp.fc2.bias: Frozen\n",
      "image_encoder.layers.2.blocks.4.local_conv.c.weight: Frozen\n",
      "image_encoder.layers.2.blocks.4.local_conv.bn.weight: Frozen\n",
      "image_encoder.layers.2.blocks.4.local_conv.bn.bias: Frozen\n",
      "image_encoder.layers.2.blocks.5.attn.attention_biases: Frozen\n",
      "image_encoder.layers.2.blocks.5.attn.norm.weight: Frozen\n",
      "image_encoder.layers.2.blocks.5.attn.norm.bias: Frozen\n",
      "image_encoder.layers.2.blocks.5.attn.qkv.weight: Frozen\n",
      "image_encoder.layers.2.blocks.5.attn.qkv.bias: Frozen\n",
      "image_encoder.layers.2.blocks.5.attn.proj.weight: Frozen\n",
      "image_encoder.layers.2.blocks.5.attn.proj.bias: Frozen\n",
      "image_encoder.layers.2.blocks.5.mlp.norm.weight: Frozen\n",
      "image_encoder.layers.2.blocks.5.mlp.norm.bias: Frozen\n",
      "image_encoder.layers.2.blocks.5.mlp.fc1.weight: Frozen\n",
      "image_encoder.layers.2.blocks.5.mlp.fc1.bias: Frozen\n",
      "image_encoder.layers.2.blocks.5.mlp.fc2.weight: Frozen\n",
      "image_encoder.layers.2.blocks.5.mlp.fc2.bias: Frozen\n",
      "image_encoder.layers.2.blocks.5.local_conv.c.weight: Frozen\n",
      "image_encoder.layers.2.blocks.5.local_conv.bn.weight: Frozen\n",
      "image_encoder.layers.2.blocks.5.local_conv.bn.bias: Frozen\n",
      "image_encoder.layers.2.downsample.conv1.c.weight: Frozen\n",
      "image_encoder.layers.2.downsample.conv1.bn.weight: Frozen\n",
      "image_encoder.layers.2.downsample.conv1.bn.bias: Frozen\n",
      "image_encoder.layers.2.downsample.conv2.c.weight: Frozen\n",
      "image_encoder.layers.2.downsample.conv2.bn.weight: Frozen\n",
      "image_encoder.layers.2.downsample.conv2.bn.bias: Frozen\n",
      "image_encoder.layers.2.downsample.conv3.c.weight: Frozen\n",
      "image_encoder.layers.2.downsample.conv3.bn.weight: Frozen\n",
      "image_encoder.layers.2.downsample.conv3.bn.bias: Frozen\n",
      "image_encoder.layers.3.blocks.0.attn.attention_biases: Frozen\n",
      "image_encoder.layers.3.blocks.0.attn.norm.weight: Frozen\n",
      "image_encoder.layers.3.blocks.0.attn.norm.bias: Frozen\n",
      "image_encoder.layers.3.blocks.0.attn.qkv.weight: Frozen\n",
      "image_encoder.layers.3.blocks.0.attn.qkv.bias: Frozen\n",
      "image_encoder.layers.3.blocks.0.attn.proj.weight: Frozen\n",
      "image_encoder.layers.3.blocks.0.attn.proj.bias: Frozen\n",
      "image_encoder.layers.3.blocks.0.mlp.norm.weight: Frozen\n",
      "image_encoder.layers.3.blocks.0.mlp.norm.bias: Frozen\n",
      "image_encoder.layers.3.blocks.0.mlp.fc1.weight: Frozen\n",
      "image_encoder.layers.3.blocks.0.mlp.fc1.bias: Frozen\n",
      "image_encoder.layers.3.blocks.0.mlp.fc2.weight: Frozen\n",
      "image_encoder.layers.3.blocks.0.mlp.fc2.bias: Frozen\n",
      "image_encoder.layers.3.blocks.0.local_conv.c.weight: Frozen\n",
      "image_encoder.layers.3.blocks.0.local_conv.bn.weight: Frozen\n",
      "image_encoder.layers.3.blocks.0.local_conv.bn.bias: Frozen\n",
      "image_encoder.layers.3.blocks.1.attn.attention_biases: Frozen\n",
      "image_encoder.layers.3.blocks.1.attn.norm.weight: Frozen\n",
      "image_encoder.layers.3.blocks.1.attn.norm.bias: Frozen\n",
      "image_encoder.layers.3.blocks.1.attn.qkv.weight: Frozen\n",
      "image_encoder.layers.3.blocks.1.attn.qkv.bias: Frozen\n",
      "image_encoder.layers.3.blocks.1.attn.proj.weight: Frozen\n",
      "image_encoder.layers.3.blocks.1.attn.proj.bias: Frozen\n",
      "image_encoder.layers.3.blocks.1.mlp.norm.weight: Frozen\n",
      "image_encoder.layers.3.blocks.1.mlp.norm.bias: Frozen\n",
      "image_encoder.layers.3.blocks.1.mlp.fc1.weight: Frozen\n",
      "image_encoder.layers.3.blocks.1.mlp.fc1.bias: Frozen\n",
      "image_encoder.layers.3.blocks.1.mlp.fc2.weight: Frozen\n",
      "image_encoder.layers.3.blocks.1.mlp.fc2.bias: Frozen\n",
      "image_encoder.layers.3.blocks.1.local_conv.c.weight: Frozen\n",
      "image_encoder.layers.3.blocks.1.local_conv.bn.weight: Frozen\n",
      "image_encoder.layers.3.blocks.1.local_conv.bn.bias: Frozen\n",
      "image_encoder.norm_head.weight: Frozen\n",
      "image_encoder.norm_head.bias: Frozen\n",
      "image_encoder.head.weight: Frozen\n",
      "image_encoder.head.bias: Frozen\n",
      "image_encoder.neck.0.weight: Frozen\n",
      "image_encoder.neck.1.weight: Frozen\n",
      "image_encoder.neck.1.bias: Frozen\n",
      "image_encoder.neck.2.weight: Frozen\n",
      "image_encoder.neck.3.weight: Frozen\n",
      "image_encoder.neck.3.bias: Frozen\n",
      "prompt_encoder.point_embeddings.0.weight: Frozen\n",
      "prompt_encoder.point_embeddings.1.weight: Frozen\n",
      "prompt_encoder.point_embeddings.2.weight: Frozen\n",
      "prompt_encoder.point_embeddings.3.weight: Frozen\n",
      "prompt_encoder.not_a_point_embed.weight: Frozen\n",
      "prompt_encoder.mask_downscaling.0.weight: Frozen\n",
      "prompt_encoder.mask_downscaling.0.bias: Frozen\n",
      "prompt_encoder.mask_downscaling.1.weight: Frozen\n",
      "prompt_encoder.mask_downscaling.1.bias: Frozen\n",
      "prompt_encoder.mask_downscaling.3.weight: Frozen\n",
      "prompt_encoder.mask_downscaling.3.bias: Frozen\n",
      "prompt_encoder.mask_downscaling.4.weight: Frozen\n",
      "prompt_encoder.mask_downscaling.4.bias: Frozen\n",
      "prompt_encoder.mask_downscaling.6.weight: Frozen\n",
      "prompt_encoder.mask_downscaling.6.bias: Frozen\n",
      "prompt_encoder.no_mask_embed.weight: Frozen\n",
      "mask_decoder.transformer.layers.0.self_attn.q_proj.weight: Trainable\n",
      "mask_decoder.transformer.layers.0.self_attn.q_proj.bias: Trainable\n",
      "mask_decoder.transformer.layers.0.self_attn.k_proj.weight: Trainable\n",
      "mask_decoder.transformer.layers.0.self_attn.k_proj.bias: Trainable\n",
      "mask_decoder.transformer.layers.0.self_attn.v_proj.weight: Trainable\n",
      "mask_decoder.transformer.layers.0.self_attn.v_proj.bias: Trainable\n",
      "mask_decoder.transformer.layers.0.self_attn.out_proj.weight: Trainable\n",
      "mask_decoder.transformer.layers.0.self_attn.out_proj.bias: Trainable\n",
      "mask_decoder.transformer.layers.0.norm1.weight: Trainable\n",
      "mask_decoder.transformer.layers.0.norm1.bias: Trainable\n",
      "mask_decoder.transformer.layers.0.cross_attn_token_to_image.q_proj.weight: Trainable\n",
      "mask_decoder.transformer.layers.0.cross_attn_token_to_image.q_proj.bias: Trainable\n",
      "mask_decoder.transformer.layers.0.cross_attn_token_to_image.k_proj.weight: Trainable\n",
      "mask_decoder.transformer.layers.0.cross_attn_token_to_image.k_proj.bias: Trainable\n",
      "mask_decoder.transformer.layers.0.cross_attn_token_to_image.v_proj.weight: Trainable\n",
      "mask_decoder.transformer.layers.0.cross_attn_token_to_image.v_proj.bias: Trainable\n",
      "mask_decoder.transformer.layers.0.cross_attn_token_to_image.out_proj.weight: Trainable\n",
      "mask_decoder.transformer.layers.0.cross_attn_token_to_image.out_proj.bias: Trainable\n",
      "mask_decoder.transformer.layers.0.norm2.weight: Trainable\n",
      "mask_decoder.transformer.layers.0.norm2.bias: Trainable\n",
      "mask_decoder.transformer.layers.0.mlp.lin1.weight: Trainable\n",
      "mask_decoder.transformer.layers.0.mlp.lin1.bias: Trainable\n",
      "mask_decoder.transformer.layers.0.mlp.lin2.weight: Trainable\n",
      "mask_decoder.transformer.layers.0.mlp.lin2.bias: Trainable\n",
      "mask_decoder.transformer.layers.0.norm3.weight: Trainable\n",
      "mask_decoder.transformer.layers.0.norm3.bias: Trainable\n",
      "mask_decoder.transformer.layers.0.norm4.weight: Trainable\n",
      "mask_decoder.transformer.layers.0.norm4.bias: Trainable\n",
      "mask_decoder.transformer.layers.0.cross_attn_image_to_token.q_proj.weight: Trainable\n",
      "mask_decoder.transformer.layers.0.cross_attn_image_to_token.q_proj.bias: Trainable\n",
      "mask_decoder.transformer.layers.0.cross_attn_image_to_token.k_proj.weight: Trainable\n",
      "mask_decoder.transformer.layers.0.cross_attn_image_to_token.k_proj.bias: Trainable\n",
      "mask_decoder.transformer.layers.0.cross_attn_image_to_token.v_proj.weight: Trainable\n",
      "mask_decoder.transformer.layers.0.cross_attn_image_to_token.v_proj.bias: Trainable\n",
      "mask_decoder.transformer.layers.0.cross_attn_image_to_token.out_proj.weight: Trainable\n",
      "mask_decoder.transformer.layers.0.cross_attn_image_to_token.out_proj.bias: Trainable\n",
      "mask_decoder.transformer.layers.1.self_attn.q_proj.weight: Trainable\n",
      "mask_decoder.transformer.layers.1.self_attn.q_proj.bias: Trainable\n",
      "mask_decoder.transformer.layers.1.self_attn.k_proj.weight: Trainable\n",
      "mask_decoder.transformer.layers.1.self_attn.k_proj.bias: Trainable\n",
      "mask_decoder.transformer.layers.1.self_attn.v_proj.weight: Trainable\n",
      "mask_decoder.transformer.layers.1.self_attn.v_proj.bias: Trainable\n",
      "mask_decoder.transformer.layers.1.self_attn.out_proj.weight: Trainable\n",
      "mask_decoder.transformer.layers.1.self_attn.out_proj.bias: Trainable\n",
      "mask_decoder.transformer.layers.1.norm1.weight: Trainable\n",
      "mask_decoder.transformer.layers.1.norm1.bias: Trainable\n",
      "mask_decoder.transformer.layers.1.cross_attn_token_to_image.q_proj.weight: Trainable\n",
      "mask_decoder.transformer.layers.1.cross_attn_token_to_image.q_proj.bias: Trainable\n",
      "mask_decoder.transformer.layers.1.cross_attn_token_to_image.k_proj.weight: Trainable\n",
      "mask_decoder.transformer.layers.1.cross_attn_token_to_image.k_proj.bias: Trainable\n",
      "mask_decoder.transformer.layers.1.cross_attn_token_to_image.v_proj.weight: Trainable\n",
      "mask_decoder.transformer.layers.1.cross_attn_token_to_image.v_proj.bias: Trainable\n",
      "mask_decoder.transformer.layers.1.cross_attn_token_to_image.out_proj.weight: Trainable\n",
      "mask_decoder.transformer.layers.1.cross_attn_token_to_image.out_proj.bias: Trainable\n",
      "mask_decoder.transformer.layers.1.norm2.weight: Trainable\n",
      "mask_decoder.transformer.layers.1.norm2.bias: Trainable\n",
      "mask_decoder.transformer.layers.1.mlp.lin1.weight: Trainable\n",
      "mask_decoder.transformer.layers.1.mlp.lin1.bias: Trainable\n",
      "mask_decoder.transformer.layers.1.mlp.lin2.weight: Trainable\n",
      "mask_decoder.transformer.layers.1.mlp.lin2.bias: Trainable\n",
      "mask_decoder.transformer.layers.1.norm3.weight: Trainable\n",
      "mask_decoder.transformer.layers.1.norm3.bias: Trainable\n",
      "mask_decoder.transformer.layers.1.norm4.weight: Trainable\n",
      "mask_decoder.transformer.layers.1.norm4.bias: Trainable\n",
      "mask_decoder.transformer.layers.1.cross_attn_image_to_token.q_proj.weight: Trainable\n",
      "mask_decoder.transformer.layers.1.cross_attn_image_to_token.q_proj.bias: Trainable\n",
      "mask_decoder.transformer.layers.1.cross_attn_image_to_token.k_proj.weight: Trainable\n",
      "mask_decoder.transformer.layers.1.cross_attn_image_to_token.k_proj.bias: Trainable\n",
      "mask_decoder.transformer.layers.1.cross_attn_image_to_token.v_proj.weight: Trainable\n",
      "mask_decoder.transformer.layers.1.cross_attn_image_to_token.v_proj.bias: Trainable\n",
      "mask_decoder.transformer.layers.1.cross_attn_image_to_token.out_proj.weight: Trainable\n",
      "mask_decoder.transformer.layers.1.cross_attn_image_to_token.out_proj.bias: Trainable\n",
      "mask_decoder.transformer.final_attn_token_to_image.q_proj.weight: Trainable\n",
      "mask_decoder.transformer.final_attn_token_to_image.q_proj.bias: Trainable\n",
      "mask_decoder.transformer.final_attn_token_to_image.k_proj.weight: Trainable\n",
      "mask_decoder.transformer.final_attn_token_to_image.k_proj.bias: Trainable\n",
      "mask_decoder.transformer.final_attn_token_to_image.v_proj.weight: Trainable\n",
      "mask_decoder.transformer.final_attn_token_to_image.v_proj.bias: Trainable\n",
      "mask_decoder.transformer.final_attn_token_to_image.out_proj.weight: Trainable\n",
      "mask_decoder.transformer.final_attn_token_to_image.out_proj.bias: Trainable\n",
      "mask_decoder.transformer.norm_final_attn.weight: Trainable\n",
      "mask_decoder.transformer.norm_final_attn.bias: Trainable\n",
      "mask_decoder.iou_token.weight: Trainable\n",
      "mask_decoder.mask_tokens.weight: Trainable\n",
      "mask_decoder.output_upscaling.0.weight: Trainable\n",
      "mask_decoder.output_upscaling.0.bias: Trainable\n",
      "mask_decoder.output_upscaling.1.weight: Trainable\n",
      "mask_decoder.output_upscaling.1.bias: Trainable\n",
      "mask_decoder.output_upscaling.3.weight: Trainable\n",
      "mask_decoder.output_upscaling.3.bias: Trainable\n",
      "mask_decoder.output_hypernetworks_mlps.0.layers.0.weight: Trainable\n",
      "mask_decoder.output_hypernetworks_mlps.0.layers.0.bias: Trainable\n",
      "mask_decoder.output_hypernetworks_mlps.0.layers.1.weight: Trainable\n",
      "mask_decoder.output_hypernetworks_mlps.0.layers.1.bias: Trainable\n",
      "mask_decoder.output_hypernetworks_mlps.0.layers.2.weight: Trainable\n",
      "mask_decoder.output_hypernetworks_mlps.0.layers.2.bias: Trainable\n",
      "mask_decoder.output_hypernetworks_mlps.1.layers.0.weight: Trainable\n",
      "mask_decoder.output_hypernetworks_mlps.1.layers.0.bias: Trainable\n",
      "mask_decoder.output_hypernetworks_mlps.1.layers.1.weight: Trainable\n",
      "mask_decoder.output_hypernetworks_mlps.1.layers.1.bias: Trainable\n",
      "mask_decoder.output_hypernetworks_mlps.1.layers.2.weight: Trainable\n",
      "mask_decoder.output_hypernetworks_mlps.1.layers.2.bias: Trainable\n",
      "mask_decoder.output_hypernetworks_mlps.2.layers.0.weight: Trainable\n",
      "mask_decoder.output_hypernetworks_mlps.2.layers.0.bias: Trainable\n",
      "mask_decoder.output_hypernetworks_mlps.2.layers.1.weight: Trainable\n",
      "mask_decoder.output_hypernetworks_mlps.2.layers.1.bias: Trainable\n",
      "mask_decoder.output_hypernetworks_mlps.2.layers.2.weight: Trainable\n",
      "mask_decoder.output_hypernetworks_mlps.2.layers.2.bias: Trainable\n",
      "mask_decoder.output_hypernetworks_mlps.3.layers.0.weight: Trainable\n",
      "mask_decoder.output_hypernetworks_mlps.3.layers.0.bias: Trainable\n",
      "mask_decoder.output_hypernetworks_mlps.3.layers.1.weight: Trainable\n",
      "mask_decoder.output_hypernetworks_mlps.3.layers.1.bias: Trainable\n",
      "mask_decoder.output_hypernetworks_mlps.3.layers.2.weight: Trainable\n",
      "mask_decoder.output_hypernetworks_mlps.3.layers.2.bias: Trainable\n",
      "mask_decoder.iou_prediction_head.layers.0.weight: Trainable\n",
      "mask_decoder.iou_prediction_head.layers.0.bias: Trainable\n",
      "mask_decoder.iou_prediction_head.layers.1.weight: Trainable\n",
      "mask_decoder.iou_prediction_head.layers.1.bias: Trainable\n",
      "mask_decoder.iou_prediction_head.layers.2.weight: Trainable\n",
      "mask_decoder.iou_prediction_head.layers.2.bias: Trainable\n",
      "\n",
      "Total Trainable Parameters in MobileSAM: 4058340\n"
     ]
    }
   ],
   "source": [
    "# Freeze layers in MobileSAM\n",
    "for name, param in mobile_sam.named_parameters():\n",
    "    if name.startswith(\"image_encoder\"):  # Assuming \"image_encoder\" corresponds to the vision encoder\n",
    "        param.requires_grad = False  # Freeze the vision encoder\n",
    "    elif name.startswith(\"prompt_encoder\"):  # Assuming \"prompt_encoder\" exists in MobileSAM\n",
    "        param.requires_grad = False  # Freeze the prompt encoder\n",
    "\n",
    "# Verify trainable parameters\n",
    "trainable_params = sum(p.numel() for p in mobile_sam.parameters() if p.requires_grad)\n",
    "print(f\"Trainable parameters: {trainable_params}\")\n",
    "\n",
    "# Iterate through all parameters and check their trainable status\n",
    "print(\"MobileSAM Parameters:\")\n",
    "for name, param in mobile_sam.named_parameters():\n",
    "        print(f\"{name}: {'Trainable' if param.requires_grad else 'Frozen'}\")\n",
    "\n",
    "# Count the total trainable parameters\n",
    "trainable_params = sum(p.numel() for p in mobile_sam.parameters() if p.requires_grad)\n",
    "print(f\"\\nTotal Trainable Parameters in MobileSAM: {trainable_params}\")"
   ]
  },
  {
   "cell_type": "markdown",
   "metadata": {},
   "source": [
    "**Training Loop**"
   ]
  },
  {
   "cell_type": "code",
   "execution_count": 5,
   "metadata": {},
   "outputs": [],
   "source": [
    "from torch.optim import Adam\n",
    "import monai\n",
    "\n",
    "# Initialize the optimizer for the mask decoder\n",
    "optimizer = Adam(mobile_sam.mask_decoder.parameters(), lr=1e-5, weight_decay=0)\n",
    "\n",
    "# Define the segmentation loss function\n",
    "# You can choose between DiceFocalLoss, FocalLoss, or DiceCELoss\n",
    "seg_loss = monai.losses.DiceCELoss(sigmoid=True, squared_pred=True, reduction='mean')"
   ]
  },
  {
   "cell_type": "code",
   "execution_count": 6,
   "metadata": {},
   "outputs": [
    {
     "name": "stderr",
     "output_type": "stream",
     "text": [
      "100%|██████████| 20/20 [00:02<00:00,  6.82it/s]\n"
     ]
    },
    {
     "name": "stdout",
     "output_type": "stream",
     "text": [
      "EPOCH: 0\n",
      "Mean loss: 81.10007133483887\n"
     ]
    },
    {
     "name": "stderr",
     "output_type": "stream",
     "text": [
      "100%|██████████| 20/20 [00:01<00:00, 12.76it/s]\n"
     ]
    },
    {
     "name": "stdout",
     "output_type": "stream",
     "text": [
      "EPOCH: 1\n",
      "Mean loss: 74.07870445251464\n"
     ]
    },
    {
     "name": "stderr",
     "output_type": "stream",
     "text": [
      "100%|██████████| 20/20 [00:01<00:00, 12.71it/s]"
     ]
    },
    {
     "name": "stdout",
     "output_type": "stream",
     "text": [
      "EPOCH: 2\n",
      "Mean loss: 70.33458561897278\n"
     ]
    },
    {
     "name": "stderr",
     "output_type": "stream",
     "text": [
      "\n"
     ]
    }
   ],
   "source": [
    "from tqdm import tqdm\n",
    "from statistics import mean\n",
    "import torch\n",
    "\n",
    "# Training loop\n",
    "num_epochs = 3\n",
    "device = \"cuda\" if torch.cuda.is_available() else \"cpu\"\n",
    "mobile_sam.to(device)\n",
    "mobile_sam.train()\n",
    "\n",
    "for epoch in range(num_epochs):\n",
    "    epoch_losses = []\n",
    "    for i in tqdm(range(20)):  # Iterate through the dataset\n",
    "        # Forward Pass\n",
    "        single_batch = batch[i]\n",
    "        single_batch[0][\"image\"] = single_batch[0][\"image\"].to(device)\n",
    "        outputs = mobile_sam(batched_input = single_batch,\n",
    "                             multimask_output = False)\n",
    "\n",
    "        # Use the first (and only) predicted mask for training\n",
    "        predicted_masks = outputs[0][\"masks\"].squeeze(1).float()\n",
    "        ground_truth_masks = single_batch[0][\"ground_truth_mask\"].unsqueeze(0)\n",
    "        loss = seg_loss(predicted_masks, ground_truth_masks)  # Add batch dimensions\n",
    "\n",
    "        # Backward pass (compute gradients of parameters w.r.t. loss)\n",
    "        optimizer.zero_grad()\n",
    "        loss.backward()\n",
    "        # print(param)\n",
    "        # print(loss.grad_fn(param))\n",
    "    \n",
    "        # Optimize\n",
    "        optimizer.step()\n",
    "        epoch_losses.append(loss.item())\n",
    "\n",
    "    print(f'EPOCH: {epoch}')\n",
    "    print(f'Mean loss: {mean(epoch_losses)}')\n"
   ]
  },
  {
   "cell_type": "code",
   "execution_count": null,
   "metadata": {},
   "outputs": [],
   "source": [
    "# Save the state_dict after moving layers\n",
    "torch.save(mobile_sam.state_dict(), \"model/cloth_MobileSAM_checkpoint2.pth\")"
   ]
  },
  {
   "cell_type": "markdown",
   "metadata": {},
   "source": [
    "**Inference**"
   ]
  },
  {
   "cell_type": "code",
   "execution_count": null,
   "metadata": {},
   "outputs": [],
   "source": [
    "from mobile_sam import sam_model_registry, SamPredictor\n",
    "\n",
    "my_cloth_model = sam_model_registry[\"vit_t\"](checkpoint=\"model/cloth_MobileSAM_checkpoint.pth\")\n",
    "my_cloth_model.eval()\n",
    "predictor = SamPredictor(my_cloth_model)"
   ]
  },
  {
   "cell_type": "code",
   "execution_count": 18,
   "metadata": {},
   "outputs": [
    {
     "ename": "ValueError",
     "evalue": "pic should not have > 4 channels. Got 256 channels.",
     "output_type": "error",
     "traceback": [
      "\u001b[1;31m---------------------------------------------------------------------------\u001b[0m",
      "\u001b[1;31mValueError\u001b[0m                                Traceback (most recent call last)",
      "Cell \u001b[1;32mIn[18], line 2\u001b[0m\n\u001b[0;32m      1\u001b[0m idx \u001b[38;5;241m=\u001b[39m \u001b[38;5;241m0\u001b[39m\n\u001b[1;32m----> 2\u001b[0m \u001b[43mpredictor\u001b[49m\u001b[38;5;241;43m.\u001b[39;49m\u001b[43mset_image\u001b[49m\u001b[43m(\u001b[49m\u001b[43mnp\u001b[49m\u001b[38;5;241;43m.\u001b[39;49m\u001b[43mtranspose\u001b[49m\u001b[43m(\u001b[49m\u001b[43mfiltered_images\u001b[49m\u001b[43m[\u001b[49m\u001b[43midx\u001b[49m\u001b[43m]\u001b[49m\u001b[43m,\u001b[49m\u001b[43m \u001b[49m\u001b[43maxes\u001b[49m\u001b[43m \u001b[49m\u001b[38;5;241;43m=\u001b[39;49m\u001b[43m \u001b[49m\u001b[43m(\u001b[49m\u001b[38;5;241;43m1\u001b[39;49m\u001b[43m,\u001b[49m\u001b[43m \u001b[49m\u001b[38;5;241;43m2\u001b[39;49m\u001b[43m,\u001b[49m\u001b[43m \u001b[49m\u001b[38;5;241;43m0\u001b[39;49m\u001b[43m)\u001b[49m\u001b[43m)\u001b[49m\u001b[43m)\u001b[49m\n\u001b[0;32m      3\u001b[0m masks, _, _ \u001b[38;5;241m=\u001b[39m predictor\u001b[38;5;241m.\u001b[39mpredict(box\u001b[38;5;241m=\u001b[39mfiltered_boxes[idx], return_logits\u001b[38;5;241m=\u001b[39m\u001b[38;5;28;01mTrue\u001b[39;00m)\n\u001b[0;32m      5\u001b[0m fig, axes \u001b[38;5;241m=\u001b[39m plt\u001b[38;5;241m.\u001b[39msubplots(\u001b[38;5;241m1\u001b[39m, \u001b[38;5;241m2\u001b[39m, figsize\u001b[38;5;241m=\u001b[39m(\u001b[38;5;241m10\u001b[39m, \u001b[38;5;241m5\u001b[39m))\n",
      "File \u001b[1;32m~\\Desktop\\Current Files\\로봇비전\\프로젝트\\SAM_cloth_finetuning\\MobileSAM\\mobile_sam\\predictor.py:56\u001b[0m, in \u001b[0;36mSamPredictor.set_image\u001b[1;34m(self, image, image_format)\u001b[0m\n\u001b[0;32m     53\u001b[0m     image \u001b[38;5;241m=\u001b[39m image[\u001b[38;5;241m.\u001b[39m\u001b[38;5;241m.\u001b[39m\u001b[38;5;241m.\u001b[39m, ::\u001b[38;5;241m-\u001b[39m\u001b[38;5;241m1\u001b[39m]\n\u001b[0;32m     55\u001b[0m \u001b[38;5;66;03m# Transform the image to the form expected by the model\u001b[39;00m\n\u001b[1;32m---> 56\u001b[0m input_image \u001b[38;5;241m=\u001b[39m \u001b[38;5;28;43mself\u001b[39;49m\u001b[38;5;241;43m.\u001b[39;49m\u001b[43mtransform\u001b[49m\u001b[38;5;241;43m.\u001b[39;49m\u001b[43mapply_image\u001b[49m\u001b[43m(\u001b[49m\u001b[43mimage\u001b[49m\u001b[43m)\u001b[49m\n\u001b[0;32m     57\u001b[0m input_image_torch \u001b[38;5;241m=\u001b[39m torch\u001b[38;5;241m.\u001b[39mas_tensor(input_image, device\u001b[38;5;241m=\u001b[39m\u001b[38;5;28mself\u001b[39m\u001b[38;5;241m.\u001b[39mdevice)\n\u001b[0;32m     58\u001b[0m input_image_torch \u001b[38;5;241m=\u001b[39m input_image_torch\u001b[38;5;241m.\u001b[39mpermute(\u001b[38;5;241m2\u001b[39m, \u001b[38;5;241m0\u001b[39m, \u001b[38;5;241m1\u001b[39m)\u001b[38;5;241m.\u001b[39mcontiguous()[\u001b[38;5;28;01mNone\u001b[39;00m, :, :, :]\n",
      "File \u001b[1;32m~\\Desktop\\Current Files\\로봇비전\\프로젝트\\SAM_cloth_finetuning\\MobileSAM\\mobile_sam\\utils\\transforms.py:31\u001b[0m, in \u001b[0;36mResizeLongestSide.apply_image\u001b[1;34m(self, image)\u001b[0m\n\u001b[0;32m     27\u001b[0m \u001b[38;5;250m\u001b[39m\u001b[38;5;124;03m\"\"\"\u001b[39;00m\n\u001b[0;32m     28\u001b[0m \u001b[38;5;124;03mExpects a numpy array with shape HxWxC in uint8 format.\u001b[39;00m\n\u001b[0;32m     29\u001b[0m \u001b[38;5;124;03m\"\"\"\u001b[39;00m\n\u001b[0;32m     30\u001b[0m target_size \u001b[38;5;241m=\u001b[39m \u001b[38;5;28mself\u001b[39m\u001b[38;5;241m.\u001b[39mget_preprocess_shape(image\u001b[38;5;241m.\u001b[39mshape[\u001b[38;5;241m0\u001b[39m], image\u001b[38;5;241m.\u001b[39mshape[\u001b[38;5;241m1\u001b[39m], \u001b[38;5;28mself\u001b[39m\u001b[38;5;241m.\u001b[39mtarget_length)\n\u001b[1;32m---> 31\u001b[0m \u001b[38;5;28;01mreturn\u001b[39;00m np\u001b[38;5;241m.\u001b[39marray(resize(\u001b[43mto_pil_image\u001b[49m\u001b[43m(\u001b[49m\u001b[43mimage\u001b[49m\u001b[43m)\u001b[49m, target_size))\n",
      "File \u001b[1;32mc:\\Users\\juhye\\AppData\\Local\\Programs\\Python\\Python312\\Lib\\site-packages\\torchvision\\transforms\\functional.py:276\u001b[0m, in \u001b[0;36mto_pil_image\u001b[1;34m(pic, mode)\u001b[0m\n\u001b[0;32m    273\u001b[0m     \u001b[38;5;28;01mraise\u001b[39;00m \u001b[38;5;167;01mValueError\u001b[39;00m(\u001b[38;5;124mf\u001b[39m\u001b[38;5;124m\"\u001b[39m\u001b[38;5;124mpic should be 2/3 dimensional. Got \u001b[39m\u001b[38;5;132;01m{\u001b[39;00mpic\u001b[38;5;241m.\u001b[39mndim\u001b[38;5;132;01m}\u001b[39;00m\u001b[38;5;124m dimensions.\u001b[39m\u001b[38;5;124m\"\u001b[39m)\n\u001b[0;32m    275\u001b[0m \u001b[38;5;28;01mif\u001b[39;00m pic\u001b[38;5;241m.\u001b[39mshape[\u001b[38;5;241m-\u001b[39m\u001b[38;5;241m1\u001b[39m] \u001b[38;5;241m>\u001b[39m \u001b[38;5;241m4\u001b[39m:\n\u001b[1;32m--> 276\u001b[0m     \u001b[38;5;28;01mraise\u001b[39;00m \u001b[38;5;167;01mValueError\u001b[39;00m(\u001b[38;5;124mf\u001b[39m\u001b[38;5;124m\"\u001b[39m\u001b[38;5;124mpic should not have > 4 channels. Got \u001b[39m\u001b[38;5;132;01m{\u001b[39;00mpic\u001b[38;5;241m.\u001b[39mshape[\u001b[38;5;241m-\u001b[39m\u001b[38;5;241m1\u001b[39m]\u001b[38;5;132;01m}\u001b[39;00m\u001b[38;5;124m channels.\u001b[39m\u001b[38;5;124m\"\u001b[39m)\n\u001b[0;32m    278\u001b[0m npimg \u001b[38;5;241m=\u001b[39m pic\n\u001b[0;32m    280\u001b[0m \u001b[38;5;28;01mif\u001b[39;00m np\u001b[38;5;241m.\u001b[39missubdtype(npimg\u001b[38;5;241m.\u001b[39mdtype, np\u001b[38;5;241m.\u001b[39mfloating) \u001b[38;5;129;01mand\u001b[39;00m mode \u001b[38;5;241m!=\u001b[39m \u001b[38;5;124m\"\u001b[39m\u001b[38;5;124mF\u001b[39m\u001b[38;5;124m\"\u001b[39m:\n",
      "\u001b[1;31mValueError\u001b[0m: pic should not have > 4 channels. Got 256 channels."
     ]
    }
   ],
   "source": [
    "idx = 0\n",
    "predictor.set_image(np.transpose(filtered_images[idx], axes = (1, 2, 0)))\n",
    "masks, _, _ = predictor.predict(box=filtered_boxes[idx], return_logits=True)\n",
    "\n",
    "fig, axes = plt.subplots(1, 2, figsize=(10, 5))\n",
    "#axes[0].imshow(np.transpose(filtered_images[idx], axes = (1, 2, 0)))\n",
    "#axes[0].set_title(\"Image\")\n",
    "axes[1].imshow(masks)\n",
    "axes[1].set_title(\"Inference Output\")"
   ]
  },
  {
   "cell_type": "code",
   "execution_count": 20,
   "metadata": {},
   "outputs": [],
   "source": [
    "torch.cuda.empty_cache()"
   ]
  },
  {
   "cell_type": "code",
   "execution_count": null,
   "metadata": {},
   "outputs": [],
   "source": [
    "\n",
    "\n",
    "\n"
   ]
  }
 ],
 "metadata": {
  "kernelspec": {
   "display_name": "Python 3",
   "language": "python",
   "name": "python3"
  },
  "language_info": {
   "codemirror_mode": {
    "name": "ipython",
    "version": 3
   },
   "file_extension": ".py",
   "mimetype": "text/x-python",
   "name": "python",
   "nbconvert_exporter": "python",
   "pygments_lexer": "ipython3",
   "version": "3.12.7"
  }
 },
 "nbformat": 4,
 "nbformat_minor": 2
}
